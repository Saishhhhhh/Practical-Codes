{
 "cells": [
  {
   "cell_type": "code",
   "execution_count": 4,
   "id": "6094ab7a",
   "metadata": {},
   "outputs": [
    {
     "name": "stdout",
     "output_type": "stream",
     "text": [
      "\n",
      "\n",
      "\n",
      "Name:- Sudhir Kumar Singh \n",
      "\n",
      "Roll no:- TEAD23152 \n",
      "\n",
      "CYK Result: True\n"
     ]
    },
    {
     "data": {
      "image/png": "[encoded data removed]",
      "text/plain": [
       "<Figure size 640x480 with 1 Axes>"
      ]
     },
     "metadata": {},
     "output_type": "display_data"
    }
   ],
   "source": [
    "import numpy as np\n",
    "import matplotlib.pyplot as plt\n",
    "\n",
    "# Grammar rules\n",
    "R = {\n",
    "    \"NP\": [[\"Det\", \"Nom\"]],\n",
    "    \"Nom\": [[\"AP\", \"Nom\"], [\"book\"], [\"orange\"], [\"man\"]],\n",
    "    \"AP\": [[\"Adv\", \"A\"], [\"heavy\"], [\"orange\"], [\"tall\"]],\n",
    "    \"Det\": [[\"a\"]],\n",
    "    \"Adv\": [[\"very\"], [\"extremely\"]],\n",
    "    \"A\": [[\"heavy\"], [\"orange\"], [\"tall\"], [\"muscular\"]]\n",
    "}\n",
    "\n",
    "# CYK Parsing Function with visualization\n",
    "def cykParseVisual(w):\n",
    "    n = len(w)\n",
    "    T = [[set() for _ in range(n)] for _ in range(n)]\n",
    "\n",
    "    # Fill the diagonal with terminal matches\n",
    "    for j in range(n):\n",
    "        for lhs, rules in R.items():\n",
    "            for rhs in rules:\n",
    "                if len(rhs) == 1 and rhs[0] == w[j]:\n",
    "                    T[j][j].add(lhs)\n",
    "\n",
    "    # Fill upper triangle of the table\n",
    "    for l in range(2, n + 1):\n",
    "        for i in range(n - l + 1):\n",
    "            j = i + l - 1\n",
    "            for k in range(i, j):\n",
    "                for lhs, rules in R.items():\n",
    "                    for rhs in rules:\n",
    "                        if len(rhs) == 2:\n",
    "                            B, C = rhs\n",
    "                            if B in T[i][k] and C in T[k + 1][j]:\n",
    "                                T[i][j].add(lhs)\n",
    "\n",
    "    # Print result\n",
    "    print(\"\\n\\n\")\n",
    "    print(\"Name:- Sudhir Kumar Singh \\n\")\n",
    "    print(\"Roll no:- TEAD23152 \\n\")\n",
    "    \n",
    "    result = \"NP\" in T[0][n - 1]\n",
    "    print(\"CYK Result:\", \"True\" if result else \"False\")\n",
    "\n",
    "    # ========== Visualization ==========\n",
    "    fig, ax = plt.subplots()\n",
    "    ax.set_axis_off()\n",
    "\n",
    "    table_data = []\n",
    "    for row in range(n):\n",
    "        table_row = []\n",
    "        for col in range(n):\n",
    "            if col < row:\n",
    "                table_row.append(\"\")  # Lower triangle remains empty\n",
    "            else:\n",
    "                cell = \", \".join(sorted(T[row][col])) if T[row][col] else \"-\"\n",
    "                table_row.append(cell)\n",
    "        table_data.append(table_row)\n",
    "\n",
    "    # Add the words as column headers\n",
    "    col_labels = [f\"{w[i]}\" for i in range(n)]\n",
    "\n",
    "    table = ax.table(\n",
    "        cellText=table_data,\n",
    "        colLabels=col_labels,\n",
    "        rowLabels=[f\"{i}\" for i in range(n)],\n",
    "        loc='center',\n",
    "        cellLoc='center'\n",
    "    )\n",
    "\n",
    "    table.scale(1, 1.5)\n",
    "    plt.title(\"CYK Parse Table Visualization\", fontsize=14)\n",
    "    plt.show()\n",
    "\n",
    "# ------------------------\n",
    "# Example sentence\n",
    "sentence = \"a very heavy orange book\".split()\n",
    "cykParseVisual(sentence)\n"
   ]
  },
  {
   "cell_type": "code",
   "execution_count": null,
   "id": "1d747f5c",
   "metadata": {},
   "outputs": [],
   "source": []
  }
 ],
 "metadata": {
  "kernelspec": {
   "display_name": "Python 3 (ipykernel)",
   "language": "python",
   "name": "python3"
  },
  "language_info": {
   "codemirror_mode": {
    "name": "ipython",
    "version": 3
   },
   "file_extension": ".py",
   "mimetype": "text/x-python",
   "name": "python",
   "nbconvert_exporter": "python",
   "pygments_lexer": "ipython3",
   "version": "3.11.5"
  }
 },
 "nbformat": 4,
 "nbformat_minor": 5
}
