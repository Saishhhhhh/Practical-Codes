{
 "cells": [
  {
   "cell_type": "code",
   "execution_count": 10,
   "id": "e9aa3cc7",
   "metadata": {},
   "outputs": [
    {
     "name": "stdout",
     "output_type": "stream",
     "text": [
      "Epoch 1/5\n",
      "1875/1875 [==============================] - 2s 950us/step - loss: 0.2945 - accuracy: 0.9130\n",
      "Epoch 2/5\n",
      "1875/1875 [==============================] - 2s 998us/step - loss: 0.1444 - accuracy: 0.9575\n",
      "Epoch 3/5\n",
      "1875/1875 [==============================] - 2s 822us/step - loss: 0.1087 - accuracy: 0.9669\n",
      "Epoch 4/5\n",
      "1875/1875 [==============================] - 2s 803us/step - loss: 0.0892 - accuracy: 0.9722\n",
      "Epoch 5/5\n",
      "1875/1875 [==============================] - 2s 816us/step - loss: 0.0748 - accuracy: 0.9763\n"
     ]
    }
   ],
   "source": [
    "import tensorflow as tf\n",
    "from tensorflow import keras\n",
    "from tensorflow.keras import layers\n",
    "import numpy as np\n",
    "import matplotlib.pyplot as plt\n",
    "from tensorflow.keras.models import load_model\n",
    "\n",
    "# Load the MNIST dataset (handwritten digits 0–9)\n",
    "mnist = keras.datasets.mnist\n",
    "(x_train, y_train), (x_test, y_test) = mnist.load_data()\n",
    "\n",
    "# Normalize pixel values to [0, 1]\n",
    "x_train, x_test = x_train / 255.0, x_test / 255.0\n",
    "\n",
    "# Build the neural network model\n",
    "model = keras.models.Sequential([\n",
    "    layers.Flatten(input_shape=(28, 28)),\n",
    "    layers.Dense(128, activation='relu'),\n",
    "    layers.Dropout(0.2),\n",
    "    layers.Dense(10, activation='softmax')\n",
    "])\n",
    "\n",
    "# Compile the model\n",
    "model.compile(\n",
    "    optimizer='adam',\n",
    "    loss='sparse_categorical_crossentropy',\n",
    "    metrics=['accuracy']\n",
    ")\n",
    "\n",
    "# Train the model\n",
    "model.fit(x_train, y_train, epochs=5)\n",
    "\n",
    "# Save the trained model\n",
    "model.save(\"handwritten_digit_recognition_model.h5\")\n",
    "\n"
   ]
  },
  {
   "cell_type": "code",
   "execution_count": 13,
   "id": "f928aace",
   "metadata": {},
   "outputs": [
    {
     "name": "stdout",
     "output_type": "stream",
     "text": [
      "\n",
      "\n",
      "\n",
      "Name:- Anjali Shirke \n",
      "\n",
      "Roll no:- TEBD23207 \n",
      "\n",
      "313/313 - 0s - loss: 0.0714 - accuracy: 0.9782\n",
      "\n",
      "Test accuracy: 0.9782000184059143\n",
      "Predicted digit: 3\n"
     ]
    },
    {
     "data": {
      "image/png": "[encoded data removed]",
      "text/plain": [
       "<Figure size 432x288 with 1 Axes>"
      ]
     },
     "metadata": {
      "needs_background": "light"
     },
     "output_type": "display_data"
    }
   ],
   "source": [
    "print(\"\\n\\n\")\n",
    "print(\"Name:- Anjali Shirke \\n\")\n",
    "print(\"Roll no:- TEBD23207 \\n\")\n",
    "# Evaluate the model on the test data\n",
    "test_loss, test_acc = model.evaluate(x_test, y_test, verbose=2)\n",
    "print(\"\\nTest accuracy:\", test_acc)\n",
    "\n",
    "# Load the saved model\n",
    "model = load_model(\"handwritten_digit_recognition_model.h5\")\n",
    "\n",
    "# Load an example image (replace with your own image path)\n",
    "image_path = \"example_digit.png\"\n",
    "image = tf.keras.preprocessing.image.load_img(\n",
    "    image_path,\n",
    "    color_mode=\"grayscale\",\n",
    "    target_size=(28, 28)\n",
    ")\n",
    "\n",
    "# Convert image to array and normalize\n",
    "input_data = tf.keras.preprocessing.image.img_to_array(image)\n",
    "input_data = input_data / 255.0\n",
    "\n",
    "# Make a prediction\n",
    "prediction = model.predict(np.array([input_data]))\n",
    "predicted_digit = np.argmax(prediction)\n",
    "\n",
    "# Show the image and prediction\n",
    "print(\"Predicted digit:\", predicted_digit)\n",
    "plt.imshow(input_data.reshape(28, 28), cmap=\"binary\")\n",
    "plt.show()"
   ]
  },
  {
   "cell_type": "code",
   "execution_count": null,
   "id": "a7e7d28b",
   "metadata": {},
   "outputs": [],
   "source": []
  }
 ],
 "metadata": {
  "kernelspec": {
   "display_name": "booksenv",
   "language": "python",
   "name": "python3"
  },
  "language_info": {
   "codemirror_mode": {
    "name": "ipython",
    "version": 3
   },
   "file_extension": ".py",
   "mimetype": "text/x-python",
   "name": "python",
   "nbconvert_exporter": "python",
   "pygments_lexer": "ipython3",
   "version": "3.6.13"
  }
 },
 "nbformat": 4,
 "nbformat_minor": 5
}
